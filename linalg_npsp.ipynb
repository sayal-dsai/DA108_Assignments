{
 "cells": [
  {
   "cell_type": "code",
   "execution_count": 2,
   "metadata": {},
   "outputs": [],
   "source": [
    "import numpy as np\n",
    "import scipy"
   ]
  },
  {
   "cell_type": "code",
   "execution_count": 5,
   "metadata": {},
   "outputs": [
    {
     "name": "stdout",
     "output_type": "stream",
     "text": [
      "[[0.1653963  0.69327368 0.45887125]\n",
      " [0.59313222 0.04368153 0.8043763 ]\n",
      " [0.25327223 0.19572358 0.14817682]]\n",
      "[[-1.45812335 -0.12474531  5.19266825]\n",
      " [ 1.11885634 -0.88582478  1.34383673]\n",
      " [ 1.01443389  1.38328869 -3.90195447]]\n",
      "[[ 1.00000000e+00 -5.12321260e-17  9.74453843e-17]\n",
      " [ 1.00594003e-16  1.00000000e+00 -1.01985022e-16]\n",
      " [-9.23022760e-18 -3.89822904e-17  1.00000000e+00]]\n"
     ]
    }
   ],
   "source": [
    "n = 3\n",
    "\n",
    "random_matrix = np.random.random([n, n])\n",
    "print(random_matrix)\n",
    "\n",
    "matrix_inv = np.linalg.inv(random_matrix)\n",
    "print(matrix_inv)\n",
    "\n",
    "check_product = np.linalg.matmul(random_matrix, matrix_inv)\n",
    "print(check_product)"
   ]
  },
  {
   "cell_type": "code",
   "execution_count": 8,
   "metadata": {},
   "outputs": [
    {
     "name": "stdout",
     "output_type": "stream",
     "text": [
      "[0.08977134 0.94037403 0.25793161]\n",
      "[0.63366779 0.57294351 0.07513906]\n",
      "0.615047144747685\n"
     ]
    }
   ],
   "source": [
    "n = 3\n",
    "\n",
    "vector_a = np.random.random(n)\n",
    "vector_b = np.random.random(n)\n",
    "\n",
    "print(vector_a)\n",
    "print(vector_b)\n",
    "\n",
    "dot_product = np.dot(vector_a, vector_b)\n",
    "print(dot_product)"
   ]
  },
  {
   "cell_type": "code",
   "execution_count": 3,
   "metadata": {},
   "outputs": [
    {
     "name": "stdout",
     "output_type": "stream",
     "text": [
      "[[0.26170095 0.52333654 0.62754413]\n",
      " [0.57371362 0.67941737 0.88743121]\n",
      " [0.47717523 0.33027759 0.87130543]]\n",
      "[0.13300763 0.43954986 0.09221414]\n",
      "[0.32270917 0.4567798  0.28898809]\n"
     ]
    }
   ],
   "source": [
    "n = 3\n",
    "m = 3\n",
    "\n",
    "A = np.random.random([m, n])\n",
    "x = np.random.random(n)\n",
    "\n",
    "print(A)\n",
    "print(x)\n",
    "\n",
    "Ax = np.linalg.matmul(A, x)\n",
    "print(Ax)"
   ]
  },
  {
   "cell_type": "code",
   "execution_count": 4,
   "metadata": {},
   "outputs": [
    {
     "name": "stdout",
     "output_type": "stream",
     "text": [
      "[[0.5423115  0.02308936 0.10496859]\n",
      " [0.07410878 0.44717877 0.99677874]\n",
      " [0.68701546 0.87894118 0.41348969]]\n",
      "[0.55935294 0.61887345 0.63946559]\n",
      "[ 0.9106384  -0.30988526  0.69219099]\n"
     ]
    }
   ],
   "source": [
    "n = 3\n",
    "\n",
    "A = np.random.random((3,3))\n",
    "b = np.random.random(3)\n",
    "\n",
    "print(A)\n",
    "print(b)\n",
    "\n",
    "x = scipy.linalg.solve(A, b)\n",
    "print(x)"
   ]
  },
  {
   "cell_type": "code",
   "execution_count": 6,
   "metadata": {},
   "outputs": [
    {
     "name": "stdout",
     "output_type": "stream",
     "text": [
      "[[0.57646626 0.49202229 0.89242923]\n",
      " [0.07455351 0.23385747 0.43068511]\n",
      " [0.71924372 0.97505223 0.14470232]]\n",
      "[ 1.45952232  0.16456774 -0.66906401]\n",
      "[[-0.75411524 -0.80355707 -0.44802757]\n",
      " [-0.25807756  0.59362912 -0.35449024]\n",
      " [-0.60390909  0.04359472  0.82073623]]\n"
     ]
    }
   ],
   "source": [
    "n = 3\n",
    "\n",
    "A = np.random.random((3,3))\n",
    "print(A)\n",
    "\n",
    "eigenvalues, eigenvectors = np.linalg.eig(A)\n",
    "print(eigenvalues)\n",
    "print(eigenvectors)"
   ]
  }
 ],
 "metadata": {
  "kernelspec": {
   "display_name": "Python 3",
   "language": "python",
   "name": "python3"
  },
  "language_info": {
   "codemirror_mode": {
    "name": "ipython",
    "version": 3
   },
   "file_extension": ".py",
   "mimetype": "text/x-python",
   "name": "python",
   "nbconvert_exporter": "python",
   "pygments_lexer": "ipython3",
   "version": "3.13.2"
  }
 },
 "nbformat": 4,
 "nbformat_minor": 2
}
