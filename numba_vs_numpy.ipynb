{
 "cells": [
  {
   "cell_type": "code",
   "execution_count": 4,
   "id": "c45a9252",
   "metadata": {},
   "outputs": [],
   "source": [
    "import numba\n",
    "import numpy as np\n",
    "import matplotlib.pyplot as plt\n",
    "import timeit"
   ]
  },
  {
   "cell_type": "code",
   "execution_count": 5,
   "id": "0da10d82",
   "metadata": {},
   "outputs": [],
   "source": [
    "def numpy_sum_squares(arr):\n",
    "    return np.sum(arr ** 2)"
   ]
  },
  {
   "cell_type": "code",
   "execution_count": 6,
   "id": "bcfc22f6",
   "metadata": {},
   "outputs": [],
   "source": [
    "@numba.jit(nopython = True)\n",
    "def numba_sum_squares(arr):\n",
    "    ans = 0.0\n",
    "    for a in arr:\n",
    "        ans += a\n",
    "    return ans"
   ]
  },
  {
   "cell_type": "code",
   "execution_count": null,
   "id": "766041f7",
   "metadata": {},
   "outputs": [
    {
     "name": "stdout",
     "output_type": "stream",
     "text": [
      "[1, 10, 100, 1000, 10000, 100000, 1000000]\n",
      "[0.11942940000153612, 0.051986599995871074, 0.05306409999320749, 0.052917900000466034, 0.056066299992380664, 0.05410699998901691, 0.05991190001077484]\n",
      "[0.06315940000058617, 0.052486400003544986, 0.05264430001261644, 0.057562500005587935, 0.05788520000351127, 0.0539950999955181, 0.058961899994756095]\n"
     ]
    }
   ],
   "source": [
    "array_len = []\n",
    "numpy_times = []\n",
    "numba_times = []\n",
    "\n",
    "for i in range(8):\n",
    "    size_arr = 10 ** i\n",
    "    array_len.append(size_arr)\n",
    "    arr = np.random.random(size_arr)\n",
    "    \n",
    "    numpy_time = timeit.timeit(lambda: numpy_sum_squares, number=5)\n",
    "    numba_time = timeit.timeit(lambda: numba_sum_squares, number=5)\n",
    "\n",
    "    numpy_times.append(numpy_time)\n",
    "    numba_times.append(numba_time)\n",
    "\n",
    "print(array_len)\n",
    "print(numpy_times)\n",
    "print(numba_times)"
   ]
  }
 ],
 "metadata": {
  "kernelspec": {
   "display_name": "Python 3",
   "language": "python",
   "name": "python3"
  },
  "language_info": {
   "codemirror_mode": {
    "name": "ipython",
    "version": 3
   },
   "file_extension": ".py",
   "mimetype": "text/x-python",
   "name": "python",
   "nbconvert_exporter": "python",
   "pygments_lexer": "ipython3",
   "version": "3.13.2"
  }
 },
 "nbformat": 4,
 "nbformat_minor": 5
}
