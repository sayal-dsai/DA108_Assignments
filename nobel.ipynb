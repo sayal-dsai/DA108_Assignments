{
 "cells": [
  {
   "cell_type": "markdown",
   "metadata": {},
   "source": [
    "Import the required modules\n",
    "csv for csv manipulation\n",
    "requests to get webpages"
   ]
  },
  {
   "cell_type": "code",
   "execution_count": null,
   "metadata": {},
   "outputs": [],
   "source": [
    "import csv\n",
    "import requests"
   ]
  },
  {
   "cell_type": "markdown",
   "metadata": {},
   "source": [
    "This is the webpage url provided"
   ]
  },
  {
   "cell_type": "code",
   "execution_count": null,
   "metadata": {},
   "outputs": [],
   "source": [
    "nobel_url = 'https://raw.githubusercontent.com/prasertcbs/basic-dataset/refs/heads/master/Nobel%20Laureattes.csv'"
   ]
  },
  {
   "cell_type": "code",
   "execution_count": null,
   "metadata": {},
   "outputs": [],
   "source": [
    "nobel_response = requests.get(nobel_url)"
   ]
  },
  {
   "cell_type": "markdown",
   "metadata": {},
   "source": [
    "This will get the text from the target url"
   ]
  },
  {
   "cell_type": "code",
   "execution_count": null,
   "metadata": {},
   "outputs": [],
   "source": [
    "nobel_text = nobel_response.text"
   ]
  },
  {
   "cell_type": "markdown",
   "metadata": {},
   "source": [
    "This will write the text from the previous cell into the required file.\n",
    "newline = '' is used because somtimes Windows inserts a newline while writing the file, and it looks ugly, not to mention all the possible errors\n",
    "encoding = 'utf-8' because some characters were causing errors without specifying this."
   ]
  },
  {
   "cell_type": "code",
   "execution_count": null,
   "metadata": {},
   "outputs": [],
   "source": [
    "with open('nobel_laureates.csv', 'w', newline='',encoding='utf-8') as f:\n",
    "    f.write(nobel_text)"
   ]
  },
  {
   "cell_type": "markdown",
   "metadata": {},
   "source": [
    "countries is the list of birth countries for which someone has won a Nobel Prize\n",
    "winners is the corresponding number of winners, that is, winners[i] will be the number of prizes won by country[i]"
   ]
  },
  {
   "cell_type": "code",
   "execution_count": null,
   "metadata": {},
   "outputs": [],
   "source": [
    "countries = []\n",
    "winners = []\n",
    "\n",
    "with open('nobel_laureates.csv') as f:\n",
    "    reader = csv.reader(f)\n",
    "    next(reader)\n",
    "    for row in reader:\n",
    "        birth_country = row[10] # row[10] has the birth country\n",
    "        # Check if country is in countries, if not, add it and make the number of winners 1\n",
    "        if birth_country not in countries:\n",
    "            countries.append(birth_country)\n",
    "            winners.append(1)\n",
    "        # If it exists, get the index at which it does, and increase the winners of that index by 1\n",
    "        else:\n",
    "            index = countries.index(birth_country)\n",
    "            winners[index] += 1\n"
   ]
  },
  {
   "cell_type": "markdown",
   "metadata": {},
   "source": [
    "This is a simple Bubble Sort"
   ]
  },
  {
   "cell_type": "code",
   "execution_count": null,
   "metadata": {},
   "outputs": [],
   "source": [
    "num_countries = len(countries)\n",
    "\n",
    "for i in range(num_countries):\n",
    "    # i roughly indicates that number of countries sorted at the end\n",
    "    for j in range(num_countries - i - 1):\n",
    "        # For j from 0 to the last unsorted country, check if the order is not as we require\n",
    "        # And if it so, swap the two values\n",
    "        if winners[j] < winners[j + 1]:\n",
    "            winners[j], winners[j + 1] = winners[j + 1], winners[j]\n",
    "            # And don't forget to swap the corresponding countries, too\n",
    "            countries[j], countries[j + 1] = countries[j + 1], countries[j]\n",
    "\n",
    "# Print the top 20 ranks\n",
    "for rank in range(20):\n",
    "    print(rank+1, countries[rank], winners[rank])"
   ]
  },
  {
   "cell_type": "markdown",
   "metadata": {},
   "source": [
    "The top 20 ranks are:\n",
    "1 United States of America 276\n",
    "2 United Kingdom 88\n",
    "3 Germany 70\n",
    "4 France 53\n",
    "5 Sweden 30\n",
    "6 Japan 29\n",
    "7  26\n",
    "8 Russia 20\n",
    "9 Netherlands 19\n",
    "10 Italy 18\n",
    "11 Canada 18\n",
    "12 Switzerland 17\n",
    "13 Austria 15\n",
    "14 Norway 13\n",
    "15 China 12\n",
    "16 Denmark 11\n",
    "17 Australia 11\n",
    "18 Germany (Poland) 10\n",
    "19 Scotland 9\n",
    "20 Belgium 9\n",
    "\n",
    "There are 26 entries where the birth country is blank, when the winner is an organisation."
   ]
  }
 ],
 "metadata": {
  "kernelspec": {
   "display_name": "Python 3",
   "language": "python",
   "name": "python3"
  },
  "language_info": {
   "codemirror_mode": {
    "name": "ipython",
    "version": 3
   },
   "file_extension": ".py",
   "mimetype": "text/x-python",
   "name": "python",
   "nbconvert_exporter": "python",
   "pygments_lexer": "ipython3",
   "version": "3.13.1"
  }
 },
 "nbformat": 4,
 "nbformat_minor": 2
}
