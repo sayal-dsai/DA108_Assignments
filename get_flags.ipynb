{
 "cells": [
  {
   "cell_type": "markdown",
   "metadata": {},
   "source": [
    "The following block will import required modules\n",
    "csv for manipulating csv files\n",
    "os for creating the directory\n",
    "requests to get webpages"
   ]
  },
  {
   "cell_type": "code",
   "execution_count": 1,
   "metadata": {},
   "outputs": [],
   "source": [
    "import csv\n",
    "import os\n",
    "import requests"
   ]
  },
  {
   "cell_type": "markdown",
   "metadata": {},
   "source": [
    "This is the url provided"
   ]
  },
  {
   "cell_type": "code",
   "execution_count": 2,
   "metadata": {},
   "outputs": [],
   "source": [
    "country_list_url = 'https://raw.githubusercontent.com/prasertcbs/basic-dataset/refs/heads/master/Country_Flags.csv'"
   ]
  },
  {
   "cell_type": "code",
   "execution_count": 3,
   "metadata": {},
   "outputs": [],
   "source": [
    "web_page = requests.get(country_list_url)"
   ]
  },
  {
   "cell_type": "markdown",
   "metadata": {},
   "source": [
    "The following first gets the text from the requested web_page.\n",
    "Then, we create a csv file and write into this file the text we fetched\n",
    "I used newline='' because in some cases, Windows forces a newline when writing to file. This looks ugly with one extra line between content, not to mention the possible errors. I used encoding = 'utf-8' to avoid encoding errors that were occurring otherwise."
   ]
  },
  {
   "cell_type": "code",
   "execution_count": 4,
   "metadata": {},
   "outputs": [],
   "source": [
    "list_of_countries = web_page.text\n",
    "with open('countries_list.csv', 'w', newline='', encoding='utf-8') as f:\n",
    "    f.write(list_of_countries)"
   ]
  },
  {
   "cell_type": "markdown",
   "metadata": {},
   "source": [
    "The following makes a directory called flags in the current directory"
   ]
  },
  {
   "cell_type": "code",
   "execution_count": 8,
   "metadata": {},
   "outputs": [],
   "source": [
    "os.mkdir('flags')"
   ]
  },
  {
   "cell_type": "markdown",
   "metadata": {},
   "source": [
    "I reused the same list name, as it's the most fitting, and read the text we had written to the csv file. I did this because the data from the webpage I got was text, and after I'd written it to a file, I read it back using the csv module to properly separate the values.\n",
    "I use next(reader) to skip the header row"
   ]
  },
  {
   "cell_type": "code",
   "execution_count": 32,
   "metadata": {},
   "outputs": [],
   "source": [
    "list_of_countries = []\n",
    "\n",
    "with open('countries_list.csv') as f:\n",
    "    reader = csv.reader(f)\n",
    "    next(reader)\n",
    "    for row in reader:\n",
    "        list_of_countries.append(row)"
   ]
  },
  {
   "cell_type": "markdown",
   "metadata": {},
   "source": [
    "Now, for each country, we get the name of the country, and use this to create a filename. The flag will be simply named {country}.svg\n",
    "Use requests to get the flag. Some flags raise errors, as the link no longer exists. Flags change, countries change.\n",
    "I use 'wb' to write binary file."
   ]
  },
  {
   "cell_type": "code",
   "execution_count": 42,
   "metadata": {},
   "outputs": [],
   "source": [
    "for country in list_of_countries:\n",
    "    country_name = country[0]\n",
    "    flag_url = country[2]\n",
    "    flag = requests.get(flag_url).content\n",
    "    svg_filename = 'flags/' + country_name + '.svg'\n",
    "    with open(svg_filename, 'wb') as f:\n",
    "        f.write(flag)"
   ]
  }
 ],
 "metadata": {
  "kernelspec": {
   "display_name": "Python 3",
   "language": "python",
   "name": "python3"
  },
  "language_info": {
   "codemirror_mode": {
    "name": "ipython",
    "version": 3
   },
   "file_extension": ".py",
   "mimetype": "text/x-python",
   "name": "python",
   "nbconvert_exporter": "python",
   "pygments_lexer": "ipython3",
   "version": "3.13.1"
  }
 },
 "nbformat": 4,
 "nbformat_minor": 2
}
